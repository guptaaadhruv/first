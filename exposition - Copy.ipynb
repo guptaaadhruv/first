{
 "cells": [
  {
   "cell_type": "markdown",
   "metadata": {},
   "source": [
    "## BLOG "
   ]
  },
  {
   "cell_type": "markdown",
   "metadata": {},
   "source": [
    "#                                                 ****jq – Lightweight command-line JSON processor****"
   ]
  },
  {
   "cell_type": "markdown",
   "metadata": {},
   "source": [
    " JSON (JavaScript Object Notation) is a data format which structures and stores data efficiently. It is lightweight and readable which means that it is easy to read and write for humans and easy for machines to parse and generate. It is commonly used in APIs for the exchange of data between different applications. It is used in different programming languages like Python, JavaScript, Java, etc. JSON is a library in Python and its object looks like a python dictionary. \n",
    "##### JSON Data Types:\n",
    "1.\tString → \"Alice\"\n",
    "2.\tNumber → 25\n",
    "3.\tBoolean → true / false\n",
    "4.\tArray → [\"Math\", \"Science\"]\n",
    "5.\tObject → {“city\": \"New York”, “zip\": \"10001\"}\n",
    "6.\tNull → null\n"
   ]
  },
  {
   "cell_type": "markdown",
   "metadata": {},
   "source": [
    "### ***Introduction to Jq***"
   ]
  },
  {
   "cell_type": "markdown",
   "metadata": {},
   "source": [
    "Jq is a command-line tool which is used for transforming, processing and the filtering of JSON data. It is fast, readable and has been specially designed for effectively handling structured JSON files. There are different other JSON processors like Jello, jid, Gron and fx which can be used to alter data according to our needs, but jq is considered best because of its speed and flexibility. It can handle structured JSON data directly in the command line, making it a powerful tool for all developers and data analysts. A jq program is a filter. It takes an input and gives an output. It has a lot of different bulletin filters for different tasks. Filters can be glued together in jq, to basically form the loops and iterations that are made in different languages. The input to jq is parsed as a sequence of JSON values which are seperated by white space and are passed through the provied filter one at a time. Then these values are written in the stadard output."
   ]
  },
  {
   "cell_type": "markdown",
   "metadata": {},
   "source": [
    "### ***Installation and Setup Guide***\n"
   ]
  },
  {
   "cell_type": "markdown",
   "metadata": {},
   "source": [
    "### Steps to install jq:\n"
   ]
  },
  {
   "cell_type": "markdown",
   "metadata": {},
   "source": [
    "The jq could be installed in two major ways.\n",
    "1. Using system commands/ external package managers\n",
    "2. Manual Installation from jq official website (https://jqlang.org/download/)\n"
   ]
  },
  {
   "cell_type": "markdown",
   "metadata": {},
   "source": [
    "#### **For Windows**\n"
   ]
  },
  {
   "cell_type": "markdown",
   "metadata": {},
   "source": [
    "1. Chocolatey (choco):\n",
    "  - Open PowerShell as Administrator and run:"
   ]
  },
  {
   "cell_type": "code",
   "execution_count": null,
   "metadata": {
    "vscode": {
     "languageId": "powershell"
    }
   },
   "outputs": [],
   "source": [
    "Set-ExecutionPolicy Bypass -Scope Process -Force; [System.Net.ServicePointManager]::SecurityProtocol = [System.Net.ServicePointManager]::SecurityProtocol -bor 3072; iex ((New-Object System.Net.WebClient).DownloadString('https://community.chocolatey.org/install.ps1'))"
   ]
  },
  {
   "cell_type": "markdown",
   "metadata": {},
   "source": [
    "  - Restart PowerShell and check installation:\n"
   ]
  },
  {
   "cell_type": "code",
   "execution_count": null,
   "metadata": {
    "vscode": {
     "languageId": "powershell"
    }
   },
   "outputs": [],
   "source": [
    "choco --version"
   ]
  },
  {
   "cell_type": "markdown",
   "metadata": {},
   "source": [
    "   - Further install jq using"
   ]
  },
  {
   "cell_type": "markdown",
   "metadata": {},
   "source": [
    "choco install jq"
   ]
  },
  {
   "cell_type": "markdown",
   "metadata": {
    "vscode": {
     "languageId": "powershell"
    }
   },
   "source": [
    "2. Winget (winget) (Comes preinstalled on Windows 10/11):\n",
    "\n",
    "  * If not installed, get it from the Microsoft Store: (https://apps.microsoft.com/detail/9nblggh4nns1?hl=en-US&gl=IN)\n",
    "  * Check installation:              \n"
   ]
  },
  {
   "cell_type": "code",
   "execution_count": null,
   "metadata": {
    "vscode": {
     "languageId": "powershell"
    }
   },
   "outputs": [],
   "source": [
    "winget --version"
   ]
  },
  {
   "cell_type": "markdown",
   "metadata": {},
   "source": [
    "  - Further install jq using"
   ]
  },
  {
   "cell_type": "code",
   "execution_count": null,
   "metadata": {
    "vscode": {
     "languageId": "powershell"
    }
   },
   "outputs": [],
   "source": [
    "winget install jqlang.jq"
   ]
  },
  {
   "cell_type": "markdown",
   "metadata": {},
   "source": [
    "3. Scoop (scoop):\n",
    "  * Open Powershell as administrator and run:\n",
    "\n",
    "     ```powershell\n",
    "     Set-ExecutionPolicy RemoteSigned -Scope CurrentUser\n",
    "     iwr -useb get.scoop.sh | iex\n",
    " * Verify Installation:\n",
    "\n",
    "     ```powershell\n",
    "             scoop --version\n",
    "  - Further install jq using:\n",
    "\n",
    "    ```powershell\n",
    "            scoop install jq "
   ]
  },
  {
   "cell_type": "markdown",
   "metadata": {},
   "source": [
    "Alternatively, you can download the pre-built binary for Windows from the jq releases page and add it to your system's PATH. (https://jqlang.org/download/)"
   ]
  },
  {
   "cell_type": "markdown",
   "metadata": {},
   "source": [
    "#### **For Linux**"
   ]
  },
  {
   "cell_type": "markdown",
   "metadata": {},
   "source": [
    "The package managers used in this are already pre installed in Linux.\n",
    "Using Bash is appropriate and recommended for Linux users because of its better compatibality, syntax friendliness and it comes pre installed in Linux systems."
   ]
  },
  {
   "cell_type": "markdown",
   "metadata": {},
   "source": [
    "1. APT (apt-get or apt) – Used in Debian-based distributions like Ubuntu, Debian, and Linux Mint.\n",
    "\n",
    "* In bash:\n",
    "    ```bash \n",
    "    sudo apt install jq\n",
    "* In some older systems use:\n",
    "    ```bash\n",
    "    sudo apt-get install apt\n"
   ]
  },
  {
   "cell_type": "markdown",
   "metadata": {},
   "source": [
    "1. DNF (dnf) – Used in Fedora, RHEL (Red Hat Enterprise Linux), and CentOS\n",
    "\n",
    "* In bash:\n",
    "    ```bash \n",
    "    sudo dnf install jq\n",
    "* In some older systems use:\n",
    "    ```bash\n",
    "    sudo yum install jq\n",
    "\n"
   ]
  },
  {
   "cell_type": "markdown",
   "metadata": {},
   "source": [
    "### ***Key features and functionalities of jq***"
   ]
  },
  {
   "cell_type": "markdown",
   "metadata": {},
   "source": [
    "Overview-\n",
    "- | jq . → Pretty print JSON\n",
    "- | jq '.key' → Extract a specific key\n",
    "- | jq '.[ ].key' → Extract values from an array\n",
    "- | jq 'select(.condition)' → Filter JSON by conditions\n",
    "- | jq 'keys' → Get all keys in an object\n",
    "- | jq 'length' → Count array elements"
   ]
  },
  {
   "cell_type": "markdown",
   "metadata": {
    "vscode": {
     "languageId": "plaintext"
    }
   },
   "source": [
    "Some of the key features of jq are given below:\n",
    "1. Pretty-printing JSON:\n",
    "   It formats the data into a readable form.\n",
    "\n",
    "   EXAMPLE:\n",
    "\n",
    "   - #command\n",
    "\n",
    "      jq . users.json\n",
    "\n",
    "   - #output\n"
   ]
  },
  {
   "cell_type": "code",
   "execution_count": 39,
   "metadata": {},
   "outputs": [
    {
     "data": {
      "text/html": [
       "<img src=\"1.png\" style=\"width:100%; display:block; margin:0;\">"
      ],
      "text/plain": [
       "<IPython.core.display.HTML object>"
      ]
     },
     "execution_count": 39,
     "metadata": {},
     "output_type": "execute_result"
    }
   ],
   "source": [
    "from IPython.core.display import HTML\n",
    "\n",
    "HTML('<img src=\"1.png\" style=\"width:100%; display:block; margin:0;\">')"
   ]
  },
  {
   "cell_type": "markdown",
   "metadata": {},
   "source": [
    "2. Extracting specific fields:\n",
    "    It is used to select a speecific field from the JSON object.\n",
    "\n",
    "    EXAMPLE:\n",
    "\n",
    "   -  #command\n",
    "\n",
    "    jq 'users[].age' data.json\n",
    "\n",
    "    - #for nested fields\n",
    "\n",
    "    jq 'users[].address.city' data.json\n"
   ]
  },
  {
   "cell_type": "code",
   "execution_count": 38,
   "metadata": {},
   "outputs": [
    {
     "data": {
      "text/html": [
       "<img src=\"2new.png\" style=\"width:100%; display:block; margin:0;\">"
      ],
      "text/plain": [
       "<IPython.core.display.HTML object>"
      ]
     },
     "execution_count": 38,
     "metadata": {},
     "output_type": "execute_result"
    }
   ],
   "source": [
    "from IPython.core.display import HTML\n",
    "\n",
    "HTML('<img src=\"2new.png\" style=\"width:100%; display:block; margin:0;\">')"
   ]
  },
  {
   "cell_type": "markdown",
   "metadata": {},
   "source": [
    "3. Filtering of the JSON data\n",
    "\n",
    "    We can extract the data that matches our condition by iterating through it.\n",
    "\n",
    "    EXAMPLE:\n",
    "\n",
    "   -  #command\n",
    "\n",
    "    jq '.users[] | select(.age > 25)' users.json\n",
    "\n",
    "   -  #output\n",
    "\n"
   ]
  },
  {
   "cell_type": "code",
   "execution_count": 28,
   "metadata": {},
   "outputs": [
    {
     "data": {
      "text/html": [
       "<img src=\"3.png\" style=\"width:100%; display:block; margin:0;\">"
      ],
      "text/plain": [
       "<IPython.core.display.HTML object>"
      ]
     },
     "execution_count": 28,
     "metadata": {},
     "output_type": "execute_result"
    }
   ],
   "source": [
    "from IPython.core.display import HTML\n",
    "\n",
    "HTML('<img src=\"3.png\" style=\"width:100%; display:block; margin:0;\">')\n"
   ]
  },
  {
   "cell_type": "markdown",
   "metadata": {},
   "source": [
    "4. Transforming JSON by mapping and modifying\n",
    "\n",
    "    We can change the structure of a JSON data or can form new values.\n",
    "\n",
    "    EXAMPLE:\n",
    "\n",
    "    #command\n",
    "\n",
    "    jq '.users[] | {fullName: .name, years: .age}' users.json\n",
    "\n",
    "    #output\n",
    "\n",
    "        {\"fullName\": \"Alice\", \"years\": 30}\n",
    "        {\"fullName\": \"Bob\", \"years\": 22}\n",
    "\n",
    "\n"
   ]
  },
  {
   "cell_type": "code",
   "execution_count": 41,
   "metadata": {},
   "outputs": [
    {
     "data": {
      "text/html": [
       "<img src=\"4new.png\" style=\"width:100%; display:block; margin:0;\">"
      ],
      "text/plain": [
       "<IPython.core.display.HTML object>"
      ]
     },
     "execution_count": 41,
     "metadata": {},
     "output_type": "execute_result"
    }
   ],
   "source": [
    "from IPython.core.display import HTML\n",
    "\n",
    "HTML('<img src=\"4new.png\" style=\"width:100%; display:block; margin:0;\">')"
   ]
  },
  {
   "cell_type": "markdown",
   "metadata": {},
   "source": [
    "5. Working with arrays\n",
    "\n",
    "    We can use the .[] ,operator to extract values from an array\n",
    "\n",
    "    EXAMPLE:\n",
    "\n",
    "    #Command\n",
    "\n",
    "    jq '.users[].email' users.json\n",
    "\n",
    "\n"
   ]
  },
  {
   "cell_type": "code",
   "execution_count": 30,
   "metadata": {},
   "outputs": [
    {
     "data": {
      "text/html": [
       "<img src=\"5.png\" style=\"width:100%; display:block; margin:0;\">"
      ],
      "text/plain": [
       "<IPython.core.display.HTML object>"
      ]
     },
     "execution_count": 30,
     "metadata": {},
     "output_type": "execute_result"
    }
   ],
   "source": [
    "from IPython.core.display import HTML\n",
    "\n",
    "HTML('<img src=\"5.png\" style=\"width:100%; display:block; margin:0;\">')\n"
   ]
  },
  {
   "cell_type": "markdown",
   "metadata": {},
   "source": [
    "6. Sorting JSON Data:\n",
    "\n",
    "    We can use [jq '.JSON_data | sort_by(.(parameter))' JSON_data.]json to sort the data according to the parameter.\n",
    "\n",
    "    #command\n",
    "\n",
    "    jq ' .users | sort_by(.age)' users.json\n",
    "\n",
    "    #output\n",
    "\n",
    "    [{\"name\": \"Bob\", \"age\": 22}, \n",
    "    \n",
    "    {\"name\": \"Alice\", \"age\": 30}]\n",
    "\n"
   ]
  },
  {
   "cell_type": "code",
   "execution_count": 40,
   "metadata": {},
   "outputs": [
    {
     "data": {
      "text/html": [
       "<img src=\"6new.png\" style=\"width:100%; display:block; margin:0;\">"
      ],
      "text/plain": [
       "<IPython.core.display.HTML object>"
      ]
     },
     "execution_count": 40,
     "metadata": {},
     "output_type": "execute_result"
    }
   ],
   "source": [
    "from IPython.core.display import HTML\n",
    "\n",
    "HTML('<img src=\"6new.png\" style=\"width:100%; display:block; margin:0;\">')"
   ]
  },
  {
   "cell_type": "markdown",
   "metadata": {},
   "source": [
    "7. Counting elements\n",
    "\n",
    "    We can print the number of users useing the length command.\n",
    "\n",
    "    #command\n",
    "\n",
    "    jq '.users | length' users.json\n",
    "\n",
    "    #output\n",
    "\n",
    "    2\n",
    "    "
   ]
  },
  {
   "cell_type": "code",
   "execution_count": 32,
   "metadata": {},
   "outputs": [
    {
     "data": {
      "text/html": [
       "<img src=\"7.png\" style=\"width:100%; display:block; margin:0;\">"
      ],
      "text/plain": [
       "<IPython.core.display.HTML object>"
      ]
     },
     "execution_count": 32,
     "metadata": {},
     "output_type": "execute_result"
    }
   ],
   "source": [
    "from IPython.core.display import HTML\n",
    "\n",
    "HTML('<img src=\"7.png\" style=\"width:100%; display:block; margin:0;\">')"
   ]
  },
  {
   "cell_type": "markdown",
   "metadata": {},
   "source": [
    "8. String manipulation\n",
    "\n",
    "    Manipulation of strings using different filters for required output.\n",
    "\n",
    "    #command for making names uppercase\n",
    "\n",
    "    jq '.users[].name | ascii_upcase' users.json\n",
    "\n",
    "    #output\n",
    "\n",
    "    \"ALICE\"\n",
    "    \n",
    "    \"BOB\"\n"
   ]
  },
  {
   "cell_type": "code",
   "execution_count": 33,
   "metadata": {},
   "outputs": [
    {
     "data": {
      "text/html": [
       "<img src=\"8.png\" style=\"width:100%; display:block; margin:0;\">"
      ],
      "text/plain": [
       "<IPython.core.display.HTML object>"
      ]
     },
     "execution_count": 33,
     "metadata": {},
     "output_type": "execute_result"
    }
   ],
   "source": [
    "from IPython.core.display import HTML\n",
    "\n",
    "HTML('<img src=\"8.png\" style=\"width:100%; display:block; margin:0;\">')\n"
   ]
  },
  {
   "cell_type": "markdown",
   "metadata": {
    "vscode": {
     "languageId": "raw"
    }
   },
   "source": [
    "9. Combining multiple commands\n",
    "\n",
    "    We can form a chain of different commands using the pipe \n",
    "    '|' operator.\n",
    "\n",
    "    EXAMPLE: Extracr names, sort theem and format them as an array.\n",
    "\n",
    "    #command\n",
    "\n",
    "    jq '[.users[].name] | sort' users.json\n",
    "\n",
    "\n",
    "\n",
    "    \n",
    "    \n",
    "\n",
    "\n"
   ]
  },
  {
   "cell_type": "code",
   "execution_count": 34,
   "metadata": {},
   "outputs": [
    {
     "data": {
      "text/html": [
       "<img src=\"9.png\" style=\"width:100%; display:block; margin:0;\">"
      ],
      "text/plain": [
       "<IPython.core.display.HTML object>"
      ]
     },
     "execution_count": 34,
     "metadata": {},
     "output_type": "execute_result"
    }
   ],
   "source": [
    "from IPython.core.display import HTML\n",
    "\n",
    "HTML('<img src=\"9.png\" style=\"width:100%; display:block; margin:0;\">')\n"
   ]
  },
  {
   "cell_type": "markdown",
   "metadata": {},
   "source": [
    "10. The select operator\n",
    "\n",
    "    #command \n",
    "\n",
    "    jq '.users[] | select(.age > 25)' users.json\n",
    "\n",
    "    #output\n",
    "\n",
    "    \"Alice\"\n"
   ]
  },
  {
   "cell_type": "markdown",
   "metadata": {},
   "source": [
    "from IPython.core.display import HTML\n",
    "\n",
    "HTML('<img src=\"10.png\" style=\"width:100%; display:block; margin:0;\">')"
   ]
  },
  {
   "cell_type": "markdown",
   "metadata": {},
   "source": [
    "### ***Most common mistakes***"
   ]
  },
  {
   "cell_type": "markdown",
   "metadata": {},
   "source": [
    "These are some mistakes that us being a beginner tend to make and to make sure that you do not commit any of these we take up this topic."
   ]
  },
  {
   "cell_type": "markdown",
   "metadata": {},
   "source": [
    "### ***Use cases***"
   ]
  },
  {
   "cell_type": "markdown",
   "metadata": {},
   "source": [
    "jq is widely used in DevOps, API development, log analysis, data processing and automation. Its speed, flexibility, and simplicity make it one of the best tools for handling JSON data efficiently."
   ]
  },
  {
   "cell_type": "markdown",
   "metadata": {},
   "source": [
    "1. Processiing API Responses\n",
    "\n",
    "    Suppose you are working with APIs that give JSSON data andd you need to extract ceertain fields. \n",
    "\n",
    "    Steps:\n",
    "\n",
    "    (a) Fetch API data.\n",
    "\n",
    "    (b) Use jq command to extract the required fields.\n",
    "\n",
    "    EXAMPLE:\n",
    "    To extract all ussernames from a JSON API response\n",
    "\n",
    "2. Log file analysis\n",
    "\n",
    "    Suppose many system logs are stored in JSON format, you can use jq to filter specific log details.\n",
    "\n",
    "    Steps:\n",
    "\n",
    "    (a) Create logs.json\n",
    "\n",
    "    (b) Use jq to filter only errors\n",
    "\n",
    "    jq '.logs[] | select(.level==\"error\")' logs.json\n",
    "\n",
    "    EXAMPLE:\n",
    "    To extract error messages from a log file (logs.json)\n",
    "\n",
    "3. Data transforming and formatting\n",
    "\n",
    "    Suppose you need too convert the JSON data into a more structured format like .csv\n",
    "\n",
    "    Steps:\n",
    "\n",
    "    (a) Use users.json\n",
    "\n",
    "    (b) Convert the JSON data into CSV using \n",
    "\n",
    "    jq -r '.users[] | [.name, .email, .age] | @csv' users.json\n",
    "\n",
    "    EXAMPLE:\n",
    "    To convert the given data into csv.\n",
    "\n",
    "4. Combining and merging JSON files\n",
    "\n",
    "    Suppose you have multiple JSON files and you need to merge them using jq.\n",
    "\n",
    "    Steps:\n",
    "\n",
    "    (a) Create two JSON files data1.json and data2.json\n",
    "\n",
    "    (b) Merge them into a single file using \n",
    "\n",
    "    jq -s '.[0].users + .[1].users' data1.json data2.json\n",
    "\n",
    "    EXAMPLE:\n",
    "    Merging data1.json and data2.json\n",
    "\n",
    "5. Automating data pipelines\n",
    "\n",
    "    Supposee using jq in a script to automate JSON data extraction and transformation.\n",
    "\n",
    "    Steps:\n",
    "\n",
    "    (a) Extract only emails using\n",
    "\n",
    "        jq -r '.users[].email' users.json > emails.txt\n",
    "\n",
    "    (b) Check the content of emails.txt using \n",
    "\n",
    "        cat emails.txt\n",
    "\n",
    "    EXAMPLE:\n",
    "    To extract user emails and save them to a file.\n",
    "\n",
    "6. Configuration file handling\n",
    "\n",
    "    Suppose you need to moddify JSON based configuration files.\n",
    "\n",
    "    (a) Create config.json\n",
    "\n",
    "        {\n",
    "            \"settings\": {\n",
    "            \"theme\": \"dark\",\n",
    "            \"notifications\": true,\n",
    "            \"enabled\": false}\n",
    "        }\n",
    "\n",
    "    (b) Change \"enabled: false to true using\n",
    "\n",
    "        jq '.settings.enabled = true' config.json > new_config.json\n",
    "\n"
   ]
  },
  {
   "cell_type": "markdown",
   "metadata": {},
   "source": [
    "### ***Conclusion***"
   ]
  },
  {
   "cell_type": "markdown",
   "metadata": {},
   "source": [
    "jq is a powerful yet simple tool for working with JSON in the command line. It helps users quickly read, filter, and modify JSON data with ease. Whether you're handling API responses, configuration files, or automation tasks, jq makes the process faster and more efficient. Its easy-to-use commands save time and effort, making it a great choice for anyone who works with JSON regularly."
   ]
  },
  {
   "cell_type": "markdown",
   "metadata": {},
   "source": [
    "### ***References***\n",
    "\n",
    "1. jq documentation https://devdocs.io/jq/\n",
    "\n",
    "2. https://www.baeldung.com/linux/jq-command-json?utm_source\n",
    "\n",
    "3. https://jqlang.org/?utm_source\n",
    "\n",
    "4. https://manpages.org/jq/?utm_source\n",
    "\n",
    "### ***Other manuals and tutorials***\n",
    "\n",
    "https://jqlang.org/tutorial/\n",
    "\n",
    "https://jqlang.org/manual/\n",
    "\n",
    "https://jqlang.org/manual/v1.6/\n",
    "\n",
    "\n"
   ]
  },
  {
   "cell_type": "markdown",
   "metadata": {},
   "source": []
  }
 ],
 "metadata": {
  "kernelspec": {
   "display_name": "Python 3",
   "language": "python",
   "name": "python3"
  },
  "language_info": {
   "codemirror_mode": {
    "name": "ipython",
    "version": 3
   },
   "file_extension": ".py",
   "mimetype": "text/x-python",
   "name": "python",
   "nbconvert_exporter": "python",
   "pygments_lexer": "ipython3",
   "version": "3.12.9"
  }
 },
 "nbformat": 4,
 "nbformat_minor": 2
}
