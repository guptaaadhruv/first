{
 "cells": [
  {
   "cell_type": "markdown",
   "metadata": {},
   "source": [
    "#                                                 ***jq – Lightweight command-line JSON processor***"
   ]
  },
  {
   "cell_type": "markdown",
   "metadata": {},
   "source": [
    " JSON (JavaScript Object Notation) is a data format which structures and stores data efficiently. It is lightweight and readable which means that it is easy to read and write for humans and easy for machines to parse and generate. It is commonly used in APIs for the exchange of data between different applications. It is used in different programming languages like Python, JavaScript, Java, etc. JSON is a library in Python and its object looks like a python dictionary. \n",
    "##### JSON Data Types:\n",
    "1.\tString → \"Alice\"\n",
    "2.\tNumber → 25\n",
    "3.\tBoolean → true / false\n",
    "4.\tArray → [\"Math\", \"Science\"]\n",
    "5.\tObject → {“city\": \"New York”, “zip\": \"10001\"}\n",
    "6.\tNull → null\n"
   ]
  },
  {
   "cell_type": "markdown",
   "metadata": {},
   "source": [
    "### ***Introduction to Jq***"
   ]
  },
  {
   "cell_type": "markdown",
   "metadata": {},
   "source": [
    "Jq is a command-line tool which is used for transforming, processing and the filtering of JSON data. It is fast, readable and has been specially designed for effectively handling structured JSON files. There are different other JSON processors like Jello, jid, Gron and fx which can be used to alter data according to our needs, but jq is considered best because of its speed and flexibility. It can handle structured JSON data directly in the command line, making it a powerful tool for all developers and data analysts. A jq program is a filter. It takes an input and gives an output. It has a lot of different bulletin filters for different tasks. Filters can be glued together in jq, to basically form the loops and iterations that are made in different languages. The input to jq is parsed as a sequence of JSON values which are seperated by white space and are passed through the provied filter one at a time. Then these values are written in the stadard output."
   ]
  },
  {
   "cell_type": "markdown",
   "metadata": {},
   "source": [
    "### ***Installation and Setup Guide***\n"
   ]
  },
  {
   "cell_type": "markdown",
   "metadata": {},
   "source": [
    "#### *Steps to install jq:*\n"
   ]
  },
  {
   "cell_type": "markdown",
   "metadata": {},
   "source": [
    "The jq could be installed in two major ways.\n",
    "1. Using system commands/ external package managers\n",
    "2. Manual Installation from jq official website [Download](https://jqlang.org/download/)\n"
   ]
  },
  {
   "cell_type": "markdown",
   "metadata": {},
   "source": [
    "#### **For Windows**\n"
   ]
  },
  {
   "cell_type": "markdown",
   "metadata": {},
   "source": [
    "1. Chocolatey (choco):\n",
    "  - Open PowerShell as Administrator and run:\n",
    "\n",
    "    ```powershell\n",
    "    Set-ExecutionPolicy Bypass -Scope Process -Force; [System.Net.ServicePointManager]::SecurityProtocol = [System.Net.ServicePointManager]::SecurityProtocol -bor 3072; iex ((New-Object System.Net.WebClient).DownloadString('https://community.chocolatey.org/install.ps1'))\n",
    "    ```\n",
    "\n",
    "  - Restart PowerShell and check installation:\n",
    "\n",
    "    \n",
    "    ```powershell\n",
    "choco --version\n",
    "    ```\n",
    "  - Further install jq using:\n",
    "\n",
    "    \n",
    "    ```powershell\n",
    "choco install jq\n",
    "    ```"
   ]
  },
  {
   "cell_type": "markdown",
   "metadata": {
    "vscode": {
     "languageId": "powershell"
    }
   },
   "source": [
    "2. Winget (winget) (Comes preinstalled on Windows 10/11):\n",
    "\n",
    "  * If not installed, get it from the Microsoft Store: (\"https://apps.microsoft.com/detail/9nblggh4nns1?hl=en-US&gl=IN\")\n",
    "  * Check installation:\n",
    "  \n",
    "       ```powershell\n",
    "winget --version\n",
    "       ```\n",
    "\n",
    "  - Further install jq using:\n",
    "    \n",
    "      ```powershell\n",
    "winget install jqlang.jq\n",
    "      ```\n"
   ]
  },
  {
   "cell_type": "markdown",
   "metadata": {},
   "source": [
    "3. Scoop (scoop):\n",
    "  * Open Powershell as administrator and run:\n",
    "\n",
    "     ```powershell\n",
    "     Set-ExecutionPolicy RemoteSigned -Scope CurrentUser\n",
    "     iwr -useb get.scoop.sh | iex\n",
    "     ```\n",
    " * Verify Installation:\n",
    "\n",
    "     ```powershell\n",
    "scoop --version\n",
    "     ```\n",
    "  - Further install jq using:\n",
    "\n",
    "    ```powershell\n",
    "scoop install jq \n",
    "    ```"
   ]
  },
  {
   "cell_type": "markdown",
   "metadata": {},
   "source": [
    "Alternatively, you can download the pre-built binary for Windows from the jq releases page and add it to your system's PATH. <https://jqlang.org/download/>"
   ]
  },
  {
   "cell_type": "markdown",
   "metadata": {},
   "source": [
    "#### **For Linux**"
   ]
  },
  {
   "cell_type": "markdown",
   "metadata": {},
   "source": [
    "The package managers used in this are already pre installed in Linux.\n",
    "Using Bash is appropriate and recommended for Linux users because of its better compatibality, syntax friendliness and it comes pre installed in Linux systems."
   ]
  },
  {
   "cell_type": "markdown",
   "metadata": {},
   "source": [
    "1. APT (apt-get or apt) – Used in Debian-based distributions like Ubuntu, Debian, and Linux Mint.\n",
    "\n",
    "* In bash:\n",
    "  \n",
    "```bash \n",
    "sudo apt install jq\n",
    "```\n",
    "* In some older systems use:\n",
    "  \n",
    "```bash\n",
    "sudo apt-get install apt\n",
    "```\n"
   ]
  },
  {
   "cell_type": "markdown",
   "metadata": {},
   "source": [
    "1. DNF (dnf) – Used in Fedora, RHEL (Red Hat Enterprise Linux), and CentOS\n",
    "\n",
    "* In bash:\n",
    "  \n",
    " ```bash \n",
    "sudo dnf install jq\n",
    "```\n",
    "* In some older systems use:\n",
    "  \n",
    "```bash\n",
    "sudo yum install jq\n",
    "```\n",
    "\n"
   ]
  },
  {
   "cell_type": "markdown",
   "metadata": {},
   "source": [
    "### ***Key features and functionalities of jq***"
   ]
  },
  {
   "cell_type": "markdown",
   "metadata": {},
   "source": [
    "##### Overview-\n",
    "- | jq . → Pretty print JSON\n",
    "- | jq '.key' → Extract a specific key\n",
    "- | jq '.[ ].key' → Extract values from an array\n",
    "- | jq 'select(.condition)' → Filter JSON by conditions\n",
    "- | jq 'keys' → Get all keys in an object\n",
    "- | jq 'length' → Count array elements\n",
    "\n",
    "(All the commands are run in powershell)"
   ]
  },
  {
   "cell_type": "markdown",
   "metadata": {},
   "source": [
    "This is the JSON file we will operating on for this section."
   ]
  },
  {
   "cell_type": "code",
   "execution_count": 14,
   "metadata": {},
   "outputs": [
    {
     "name": "stdout",
     "output_type": "stream",
     "text": [
      "{\n",
      "    \"users\": [\n",
      "        {\n",
      "            \"name\": \"User1\",\n",
      "            \"age\": 21,\n",
      "            \"address\": {\n",
      "                \"city\": \"City1\",\n",
      "                \"zipcode\": \"12345\"\n",
      "            },\n",
      "            \"email\": \"user1@example.com\"\n",
      "        },\n",
      "        {\n",
      "            \"name\": \"User2\",\n",
      "            \"age\": 45,\n",
      "            \"address\": {\n",
      "                \"city\": \"City2\",\n",
      "                \"zipcode\": \"67890\"\n",
      "            },\n",
      "            \"email\": \"user2@example.com\"\n",
      "        },\n",
      "        {\n",
      "            \"name\": \"User3\",\n",
      "            \"age\": 23,\n",
      "            \"address\": {\n",
      "                \"city\": \"City3\",\n",
      "                \"zipcode\": \"54321\"\n",
      "            },\n",
      "            \"email\": \"user3@example.com\"\n",
      "        },\n",
      "        {\n",
      "            \"name\": \"User4\",\n",
      "            \"age\": 34,\n",
      "            \"address\": {\n",
      "                \"city\": \"City4\",\n",
      "                \"zipcode\": \"98765\"\n",
      "            },\n",
      "            \"email\": \"user4@example.com\"\n",
      "        }\n",
      "    ]\n",
      "}\n"
     ]
    }
   ],
   "source": [
    "import json\n",
    "\n",
    "with open(\"users.json\", \"r\", encoding=\"utf-8\") as file:\n",
    "    data = json.load(file)\n",
    "\n",
    "print(json.dumps(data, indent=4))"
   ]
  },
  {
   "cell_type": "markdown",
   "metadata": {
    "vscode": {
     "languageId": "plaintext"
    }
   },
   "source": [
    "Some of the key features of jq are given below:\n",
    "##### 1. Pretty-printing JSON:\n",
    "   It formats the JSON data into a form which is in readable form. \n",
    "\n",
    "   EXAMPLE:\n",
    "\n",
    "   - command\n",
    "     \n",
    "```Powershell\n",
    "jq . users.json\n",
    "```\n",
    "   - output\n"
   ]
  },
  {
   "cell_type": "code",
   "execution_count": 1,
   "metadata": {},
   "outputs": [
    {
     "data": {
      "text/html": [
       "<img src=\"1.png\" style=\"width:100%; display:block; margin:0;\">"
      ],
      "text/plain": [
       "<IPython.core.display.HTML object>"
      ]
     },
     "execution_count": 1,
     "metadata": {},
     "output_type": "execute_result"
    }
   ],
   "source": [
    "from IPython.core.display import HTML\n",
    "\n",
    "HTML('<img src=\"1.png\" style=\"width:100%; display:block; margin:0;\">')"
   ]
  },
  {
   "cell_type": "markdown",
   "metadata": {},
   "source": [
    "##### 2. Extracting specific fields:\n",
    "    It is used to select a speecific field from the JSON object.\n",
    "\n",
    "Example:\n",
    "\n",
    "-  command\n",
    "  \n",
    "  ```Powershell\n",
    "jq 'users[].age' data.json\n",
    "```\n",
    "- for nested fields\n",
    "  \n",
    "  ```Powershell\n",
    "jq 'users[].address.city' data.json\n",
    "```"
   ]
  },
  {
   "cell_type": "code",
   "execution_count": 2,
   "metadata": {},
   "outputs": [
    {
     "data": {
      "text/html": [
       "<img src=\"2new.png\" style=\"width:100%; display:block; margin:0;\">"
      ],
      "text/plain": [
       "<IPython.core.display.HTML object>"
      ]
     },
     "execution_count": 2,
     "metadata": {},
     "output_type": "execute_result"
    }
   ],
   "source": [
    "from IPython.core.display import HTML\n",
    "\n",
    "HTML('<img src=\"2new.png\" style=\"width:100%; display:block; margin:0;\">')"
   ]
  },
  {
   "cell_type": "markdown",
   "metadata": {},
   "source": [
    "##### 3. Filtering of the JSON data\n",
    "\n",
    "    We can extract the data that matches our condition by iterating through it.\n",
    "\n",
    "Example:\n",
    "\n",
    " -  command\n",
    "   \n",
    " ```Powershell\n",
    "jq '.users[] | select(.age > 25)' users.json\n",
    "```\n",
    "   -  output\n",
    "\n"
   ]
  },
  {
   "cell_type": "code",
   "execution_count": 3,
   "metadata": {},
   "outputs": [
    {
     "data": {
      "text/html": [
       "<img src=\"3.png\" style=\"width:100%; display:block; margin:0;\">"
      ],
      "text/plain": [
       "<IPython.core.display.HTML object>"
      ]
     },
     "execution_count": 3,
     "metadata": {},
     "output_type": "execute_result"
    }
   ],
   "source": [
    "from IPython.core.display import HTML\n",
    "\n",
    "HTML('<img src=\"3.png\" style=\"width:100%; display:block; margin:0;\">')\n"
   ]
  },
  {
   "cell_type": "markdown",
   "metadata": {},
   "source": [
    "##### 4. Transforming JSON by mapping and modifying\n",
    "\n",
    "    We can change the structure of a JSON data or can form new values.\n",
    "\n",
    "Example:\n",
    "\n",
    "- command\n",
    "  \n",
    "```Powershell\n",
    "jq '.users[] | {fullName: .name, years: .age}' users.json\n",
    "```\n",
    "- output\n",
    "\n",
    "\n",
    "\n"
   ]
  },
  {
   "cell_type": "code",
   "execution_count": 4,
   "metadata": {},
   "outputs": [
    {
     "data": {
      "text/html": [
       "<img src=\"4new.png\" style=\"width:100%; display:block; margin:0;\">"
      ],
      "text/plain": [
       "<IPython.core.display.HTML object>"
      ]
     },
     "execution_count": 4,
     "metadata": {},
     "output_type": "execute_result"
    }
   ],
   "source": [
    "from IPython.core.display import HTML\n",
    "\n",
    "HTML('<img src=\"4new.png\" style=\"width:100%; display:block; margin:0;\">')"
   ]
  },
  {
   "cell_type": "markdown",
   "metadata": {},
   "source": [
    "##### 5. Working with arrays\n",
    "\n",
    "    We can use the .[] ,operator to extract values from an array\n",
    "\n",
    "Example:\n",
    "\n",
    "- Command\n",
    "  \n",
    " ```Powershell\n",
    "jq '.users[].email' users.json\n",
    "```"
   ]
  },
  {
   "cell_type": "code",
   "execution_count": 5,
   "metadata": {},
   "outputs": [
    {
     "data": {
      "text/html": [
       "<img src=\"5.png\" style=\"width:100%; display:block; margin:0;\">"
      ],
      "text/plain": [
       "<IPython.core.display.HTML object>"
      ]
     },
     "execution_count": 5,
     "metadata": {},
     "output_type": "execute_result"
    }
   ],
   "source": [
    "from IPython.core.display import HTML\n",
    "\n",
    "HTML('<img src=\"5.png\" style=\"width:100%; display:block; margin:0;\">')\n"
   ]
  },
  {
   "cell_type": "markdown",
   "metadata": {},
   "source": [
    "##### 6. Sorting JSON Data:\n",
    "\n",
    "    We can use [jq '.JSON_data | sort_by(.(parameter))' JSON_data.]json to sort the data according to the parameter. This helps us to get the data as per a particular category.\n",
    "\n",
    "Example:\n",
    "\n",
    "- command\n",
    "  \n",
    "```Powershell\n",
    "jq ' .users | sort_by(.age)' users.json\n",
    " ```\n",
    "- output\n",
    "\n",
    "\n"
   ]
  },
  {
   "cell_type": "code",
   "execution_count": 6,
   "metadata": {},
   "outputs": [
    {
     "data": {
      "text/html": [
       "<img src=\"6new.png\" style=\"width:100%; display:block; margin:0;\">"
      ],
      "text/plain": [
       "<IPython.core.display.HTML object>"
      ]
     },
     "execution_count": 6,
     "metadata": {},
     "output_type": "execute_result"
    }
   ],
   "source": [
    "from IPython.core.display import HTML\n",
    "\n",
    "HTML('<img src=\"6new.png\" style=\"width:100%; display:block; margin:0;\">')"
   ]
  },
  {
   "cell_type": "markdown",
   "metadata": {},
   "source": [
    "##### 7. Counting elements\n",
    "\n",
    "    We can print the number of users useing the length command.\n",
    "\n",
    "Example:\n",
    "\n",
    "- command\n",
    "  \n",
    "```Powershell\n",
    "jq '.users | length' users.json\n",
    "```\n",
    "- output\n",
    "    "
   ]
  },
  {
   "cell_type": "code",
   "execution_count": 8,
   "metadata": {},
   "outputs": [
    {
     "data": {
      "text/html": [
       "<img src=\"7.png\" style=\"width:100%; display:block; margin:0;\">"
      ],
      "text/plain": [
       "<IPython.core.display.HTML object>"
      ]
     },
     "execution_count": 8,
     "metadata": {},
     "output_type": "execute_result"
    }
   ],
   "source": [
    "from IPython.core.display import HTML\n",
    "\n",
    "HTML('<img src=\"7.png\" style=\"width:100%; display:block; margin:0;\">')"
   ]
  },
  {
   "cell_type": "markdown",
   "metadata": {},
   "source": [
    "##### 8. String manipulation\n",
    "\n",
    "    This allows us to manipulate of strings using different filters for required output.\n",
    "\n",
    "Example:\n",
    "\n",
    "- command for making names uppercase\n",
    "  \n",
    "```Powershell\n",
    "    jq '.users[].name | ascii_upcase' users.json\n",
    "```\n",
    "- output\n"
   ]
  },
  {
   "cell_type": "code",
   "execution_count": 9,
   "metadata": {},
   "outputs": [
    {
     "data": {
      "text/html": [
       "<img src=\"8.png\" style=\"width:100%; display:block; margin:0;\">"
      ],
      "text/plain": [
       "<IPython.core.display.HTML object>"
      ]
     },
     "execution_count": 9,
     "metadata": {},
     "output_type": "execute_result"
    }
   ],
   "source": [
    "from IPython.core.display import HTML\n",
    "\n",
    "HTML('<img src=\"8.png\" style=\"width:100%; display:block; margin:0;\">')\n"
   ]
  },
  {
   "cell_type": "markdown",
   "metadata": {
    "vscode": {
     "languageId": "raw"
    }
   },
   "source": [
    "##### 9. Combining multiple commands\n",
    "\n",
    "    We can form a chain of different commands using the pipe \n",
    "    '|' operator. Which means that we could impose different conditions over the data in a single line of code.\n",
    "\n",
    "Example: Extract names, sort them and format them as an array.\n",
    "\n",
    "- command\n",
    "  \n",
    "```Powershell\n",
    "jq '[.users[].name] | sort' users.json\n",
    "```\n",
    "- output\n"
   ]
  },
  {
   "cell_type": "code",
   "execution_count": 11,
   "metadata": {},
   "outputs": [
    {
     "data": {
      "text/html": [
       "<img src=\"9.png\" style=\"width:100%; display:block; margin:0;\">"
      ],
      "text/plain": [
       "<IPython.core.display.HTML object>"
      ]
     },
     "execution_count": 11,
     "metadata": {},
     "output_type": "execute_result"
    }
   ],
   "source": [
    "from IPython.core.display import HTML\n",
    "\n",
    "HTML('<img src=\"9.png\" style=\"width:100%; display:block; margin:0;\">')\n"
   ]
  },
  {
   "cell_type": "markdown",
   "metadata": {},
   "source": [
    "##### 10. The select operator\n",
    "        This allows us to select data with particular conditions.\n",
    "\n",
    "Example: \n",
    "\n",
    "- command\n",
    "  \n",
    "```Powershell\n",
    "jq '.users[] | select(.age > 25)' users.json\n",
    "```\n",
    "- output\n"
   ]
  },
  {
   "cell_type": "code",
   "execution_count": 12,
   "metadata": {},
   "outputs": [
    {
     "data": {
      "text/html": [
       "<img src=\"10.png\" style=\"width:100%; display:block; margin:0;\">"
      ],
      "text/plain": [
       "<IPython.core.display.HTML object>"
      ]
     },
     "execution_count": 12,
     "metadata": {},
     "output_type": "execute_result"
    }
   ],
   "source": [
    "from IPython.core.display import HTML\n",
    "\n",
    "HTML('<img src=\"10.png\" style=\"width:100%; display:block; margin:0;\">')"
   ]
  },
  {
   "cell_type": "markdown",
   "metadata": {},
   "source": [
    "### ***Most common mistakes!!***"
   ]
  },
  {
   "cell_type": "markdown",
   "metadata": {},
   "source": [
    "These are some mistakes that us being a beginner tend to make and to make sure that you do not commit any of these we take up this topic."
   ]
  },
  {
   "cell_type": "markdown",
   "metadata": {},
   "source": [
    "Below we have used the keyword \"echo\" as it allows us to pass JSON data as input directly rather than providing the whole file for input."
   ]
  },
  {
   "cell_type": "markdown",
   "metadata": {},
   "source": [
    "1) Running jq without JSON input\n",
    "\n",
    "Incorrect code-\n",
    "   \n",
    "```Powershell\n",
    "jq '.name'\n",
    "```\n",
    "    \n",
    "Correct code-\n",
    "    \n",
    "```Powershell\n",
    "echo '{\"name\": \"Alice\"}' | jq '.name'\n",
    "```"
   ]
  },
  {
   "cell_type": "markdown",
   "metadata": {},
   "source": [
    "2) Wrong Structure-\n",
    "   \n",
    "Incorrect code-\n",
    "   \n",
    "```Powershell\n",
    "echo '{\"users\": [{\"name\": \"Alice\"}]}' | jq '.name'\n",
    "```\n",
    "\n",
    "Correct code-\n",
    "    \n",
    "```Powershell\n",
    "echo '{\"users\": [{\"name\": \"Alice\"}]}' | jq '.users[0].name'\n",
    "```"
   ]
  },
  {
   "cell_type": "markdown",
   "metadata": {},
   "source": [
    "3) syntax errors-\n",
    "   \n",
    "Incorrect code-\n",
    "   \n",
    "```Powershell\n",
    "echo '{\"name\": \"Alice\", \"age\": 30}' | jq '.age = 35'\n",
    "```\n",
    "    \n",
    "Correct code-\n",
    "    \n",
    "```Powershell\n",
    "echo '{\"name\": \"Alice\", \"age\": 30}' | jq '. | .age = 35'\n",
    "```"
   ]
  },
  {
   "cell_type": "markdown",
   "metadata": {},
   "source": [
    "### ***Use cases***"
   ]
  },
  {
   "cell_type": "markdown",
   "metadata": {},
   "source": [
    "jq is widely used in DevOps, API development, log analysis, data processing and automation. Its speed, flexibility, and simplicity make it one of the best tools for handling JSON data efficiently."
   ]
  },
  {
   "cell_type": "markdown",
   "metadata": {},
   "source": [
    "1. Processing API Responses\n",
    "\n",
    "    Suppose you are working with APIs that give JSSON data andd you need to extract ceertain fields. \n",
    "\n",
    "    Steps:\n",
    "\n",
    "    (a) Fetch API data.\n",
    "\n",
    "    (b) Use jq command to extract the required fields.\n",
    "\n",
    "    EXAMPLE:\n",
    "    To extract all ussernames from a JSON API response\n",
    "\n",
    "2. Log file analysis\n",
    "\n",
    "    Suppose many system logs are stored in JSON format, you can use jq to filter specific log details.\n",
    "\n",
    "    Steps:\n",
    "\n",
    "     (a) Create logs.json\n",
    "\n",
    "     (b) Use jq to filter only errors\n",
    "    ```Powershell\n",
    "     jq '.logs[] | select(.level==\"error\")' logs.json\n",
    "    ```\n",
    "    EXAMPLE:\n",
    "    To extract error messages from a log file (logs.json)\n",
    "\n",
    "3. Data transforming and formatting\n",
    "\n",
    "    Suppose you need too convert the JSON data into a more structured format like .csv\n",
    "\n",
    "    Steps:\n",
    "\n",
    "     (a) Use users.json\n",
    "\n",
    "     (b) Convert the JSON data into CSV using \n",
    "     ```Powershell\n",
    "     jq -r '.users[] | [.name, .email, .age] | @csv' users.json\n",
    "     ```\n",
    "    EXAMPLE:\n",
    "    To convert the given data into csv.\n",
    "\n",
    "4. Combining and merging JSON files\n",
    "\n",
    "    Suppose you have multiple JSON files and you need to merge them using jq.\n",
    "\n",
    "    Steps:\n",
    "\n",
    "        (a) Create two JSON files data1.json and data2.json\n",
    "\n",
    "        (b) Merge them into a single file using \n",
    "     ```Powershell\n",
    "        jq -s '.[0].users + .[1].users' data1.json data2.json\n",
    "     ```\n",
    "    EXAMPLE:\n",
    "        Merging data1.json and data2.json\n",
    "\n",
    "5. Automating data pipelines\n",
    "\n",
    "    Supposee using jq in a script to automate JSON data extraction and transformation.\n",
    "\n",
    "    Steps:\n",
    "\n",
    "        (a) Extract only emails using\n",
    "    ```Powershell\n",
    "            jq -r '.users[].email' users.json > emails.txt\n",
    "    ```\n",
    "        (b) Check the content of emails.txt using \n",
    "    ```Powershell\n",
    "            cat emails.txt\n",
    "    ```\n",
    "    EXAMPLE:\n",
    "        To extract user emails and save them to a file.\n",
    "\n",
    "6. Configuration file handling\n",
    "\n",
    "    Suppose you need to moddify JSON based configuration files.\n",
    "\n",
    "        (a) Create config.json\n",
    "    ```Powershell\n",
    "            {\n",
    "                \"settings\": {\n",
    "                \"theme\": \"dark\",\n",
    "                \"notifications\": true,\n",
    "                \"enabled\": false}\n",
    "            }\n",
    "    ```\n",
    "\n",
    "        (b) Change \"enabled: false to true using\n",
    "    ```Powershell\n",
    "            jq '.settings.enabled = true' config.json > new_config.json\n",
    "    ```\n"
   ]
  },
  {
   "cell_type": "markdown",
   "metadata": {},
   "source": [
    "### ***Conclusion***"
   ]
  },
  {
   "cell_type": "markdown",
   "metadata": {},
   "source": [
    "jq is a powerful yet simple tool for working with JSON in the command line. It helps users quickly read, filter, and modify JSON data with ease. Whether you're handling API responses, configuration files, or automation tasks, jq makes the process faster and more efficient. Its easy-to-use commands save time and effort, making it a great choice for anyone who works with JSON regularly."
   ]
  },
  {
   "cell_type": "markdown",
   "metadata": {},
   "source": [
    "### ***References***\n",
    "\n",
    "1. jq documentation: <https://devdocs.io/jq/>\n",
    "\n",
    "2. <https://www.baeldung.com/linux/jq-command-json?utm_source>\n",
    "\n",
    "3. <https://jqlang.org/?utm_source>\n",
    "\n",
    "4. <https://manpages.org/jq/?utm_source>\n",
    "\n",
    "### ***Other manuals and tutorials***\n",
    "\n",
    "1. <https://jqlang.org/tutorial/>\n",
    "\n",
    "2. <https://jqlang.org/manual/>\n",
    "\n",
    "3. <https://jqlang.org/manual/v1.6/>\n",
    "\n",
    "\n"
   ]
  },
  {
   "cell_type": "markdown",
   "metadata": {},
   "source": []
  }
 ],
 "metadata": {
  "kernelspec": {
   "display_name": "Python 3 (ipykernel)",
   "language": "python",
   "name": "python3"
  },
  "language_info": {
   "codemirror_mode": {
    "name": "ipython",
    "version": 3
   },
   "file_extension": ".py",
   "mimetype": "text/x-python",
   "name": "python",
   "nbconvert_exporter": "python",
   "pygments_lexer": "ipython3",
   "version": "3.12.9"
  }
 },
 "nbformat": 4,
 "nbformat_minor": 4
}
